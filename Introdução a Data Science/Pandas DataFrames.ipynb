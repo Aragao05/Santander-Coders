{
 "cells": [
  {
   "cell_type": "code",
   "execution_count": null,
   "metadata": {},
   "outputs": [],
   "source": [
    "import pandas as pd"
   ]
  },
  {
   "cell_type": "code",
   "execution_count": null,
   "metadata": {},
   "outputs": [],
   "source": [
    "dictionary = {'Autores': ['Rick Riordan','J.R.R. Tolkien', 'Rick Riordan', 'Machado de Assis'],\n",
    "              'Titulos': ['O Ladrão de Raios', 'A Sociedade do Anel','Mar de Monstros', 'Memorias Postumas de Bras Cubas'],\n",
    "              'Preços': [41.2, 37.5, 39.5, 40.5]}"
   ]
  },
  {
   "cell_type": "code",
   "execution_count": null,
   "metadata": {},
   "outputs": [],
   "source": [
    "# DataFrame\n",
    "df = pd.DataFrame(dictionary)\n",
    "print(df)"
   ]
  },
  {
   "cell_type": "code",
   "execution_count": null,
   "metadata": {},
   "outputs": [],
   "source": [
    "df['Autores'][1]"
   ]
  },
  {
   "cell_type": "code",
   "execution_count": null,
   "metadata": {},
   "outputs": [],
   "source": [
    "df['Preços'].mean()"
   ]
  },
  {
   "cell_type": "code",
   "execution_count": null,
   "metadata": {},
   "outputs": [],
   "source": [
    "mask = df['Autores'] == 'Rick Riordan' # criando filtros"
   ]
  },
  {
   "cell_type": "code",
   "execution_count": null,
   "metadata": {},
   "outputs": [],
   "source": [
    "df[mask]"
   ]
  },
  {
   "cell_type": "code",
   "execution_count": null,
   "metadata": {},
   "outputs": [],
   "source": [
    "nova_linha = {'Autores': 'Rick Riordan', 'Titulos': 'A Maldiçã do Titã', 'Preços': 40.20}\n",
    "df = pd.concat([df, pd.DataFrame([nova_linha])], ignore_index=True) # ingnore_index = True faz com que o index não se reinicalize e continue apratir do ultimo indice da tabela \n",
    "\n",
    "df"
   ]
  },
  {
   "cell_type": "code",
   "execution_count": null,
   "metadata": {},
   "outputs": [],
   "source": [
    "mascara_correção = df['Titulos'] == 'A Maldiçã do Titã'\n",
    "print(mascara_correção)"
   ]
  },
  {
   "cell_type": "code",
   "execution_count": null,
   "metadata": {},
   "outputs": [],
   "source": [
    "df.loc[mascara_correção, 'Titulos'] = 'A Maldição do Titã'\n",
    "df"
   ]
  },
  {
   "cell_type": "markdown",
   "metadata": {},
   "source": [
    "Criar um Novo DataFrame com livros e adicionar novos livros nele"
   ]
  },
  {
   "cell_type": "code",
   "execution_count": null,
   "metadata": {},
   "outputs": [],
   "source": [
    "import pandas as pd \n",
    "\n",
    "dicionario = {'Autor': ['Robert Greene', 'Daniel Goleman', 'Neil Gaiman'],\n",
    "              'Livro': ['A Arte da Sedução', 'Inteligencia Emocional', 'Coraline'],\n",
    "              'Preço': [45.5, 67.3, 33]}\n",
    "\n",
    "Livros = pd.DataFrame(dicionario)\n",
    "\n",
    "add = {'Autor': ['Robert Greene', 'Caronila Funke'], 'Livro': ['48 Leis do Poder', 'O Labirinto do Fauno'], 'Preço': [46.32, 36]} \n",
    "\n",
    "Livros = pd.concat([Livros, pd.DataFrame(add)], ignore_index= True)\n",
    "\n"
   ]
  },
  {
   "cell_type": "code",
   "execution_count": null,
   "metadata": {},
   "outputs": [],
   "source": [
    "Livros"
   ]
  }
 ],
 "metadata": {
  "kernelspec": {
   "display_name": "Python 3",
   "language": "python",
   "name": "python3"
  },
  "language_info": {
   "codemirror_mode": {
    "name": "ipython",
    "version": 3
   },
   "file_extension": ".py",
   "mimetype": "text/x-python",
   "name": "python",
   "nbconvert_exporter": "python",
   "pygments_lexer": "ipython3",
   "version": "3.11.8"
  }
 },
 "nbformat": 4,
 "nbformat_minor": 2
}
