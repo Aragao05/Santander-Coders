{
 "cells": [
  {
   "cell_type": "code",
   "execution_count": null,
   "metadata": {},
   "outputs": [],
   "source": [
    "import numpy as np"
   ]
  },
  {
   "cell_type": "code",
   "execution_count": null,
   "metadata": {},
   "outputs": [],
   "source": [
    "lista = [1,2,3,4,5,6]\n",
    "array = np.array(lista)"
   ]
  },
  {
   "cell_type": "code",
   "execution_count": null,
   "metadata": {},
   "outputs": [],
   "source": [
    "print(type(lista))\n",
    "print(type(array))"
   ]
  },
  {
   "cell_type": "code",
   "execution_count": null,
   "metadata": {},
   "outputs": [],
   "source": [
    "arr_zeros = np.zeros(10)\n",
    "\n",
    "print(arr_zeros)"
   ]
  },
  {
   "cell_type": "code",
   "execution_count": null,
   "metadata": {},
   "outputs": [],
   "source": [
    "array[0] = 9\n",
    "\n",
    "print(array)"
   ]
  },
  {
   "cell_type": "code",
   "execution_count": null,
   "metadata": {},
   "outputs": [],
   "source": [
    "#Matrizes\n",
    "matriz_zeros = np.zeros((5,3))\n",
    "\n",
    "print(matriz_zeros)"
   ]
  },
  {
   "cell_type": "code",
   "execution_count": null,
   "metadata": {},
   "outputs": [],
   "source": [
    "# Notas de Alunos\n",
    "lista_de_notas = [9.8, 5.6, 7.8, 9.1, 6.5]\n",
    "\n",
    "notas = np.array(lista_de_notas)"
   ]
  },
  {
   "cell_type": "code",
   "execution_count": null,
   "metadata": {},
   "outputs": [],
   "source": [
    "print('Maximo: ', notas.max())\n",
    "print('Minimo: ', notas.min())\n",
    "print('Desvio padrão: ', notas.std())\n",
    "print('Media: ', notas.mean())\n",
    "print('Posição do Menor: ', notas.argmin())"
   ]
  },
  {
   "cell_type": "markdown",
   "metadata": {},
   "source": [
    "Criar um programa que pede pra um usuario digitar 10 notas de aluno, tranformar em um array de numpy a fazer calculos de media, saber qual o maior e a menor nota e qual o desvio padrão."
   ]
  },
  {
   "cell_type": "code",
   "execution_count": null,
   "metadata": {},
   "outputs": [],
   "source": [
    "import numpy as np\n",
    "\n",
    "notas = []\n",
    "\n",
    "for i in range(10):\n",
    "    nota = float(input(\"insira uma nota: \"))\n",
    "    notas.append(nota)\n",
    "\n",
    "notas_array = np.array(notas)\n",
    "\n",
    "media = notas_array.mean()\n",
    "maior = notas_array.max()\n",
    "menor = notas_array.min()\n",
    "desvio = notas_array.std()\n",
    "\n",
    "print(f'A média de notas é: {media}, a nota maxima é: {maior},\\n a menor nota é: {menor}, o desvio é: {desvio}')"
   ]
  }
 ],
 "metadata": {
  "kernelspec": {
   "display_name": "Python 3",
   "language": "python",
   "name": "python3"
  },
  "language_info": {
   "codemirror_mode": {
    "name": "ipython",
    "version": 3
   },
   "file_extension": ".py",
   "mimetype": "text/x-python",
   "name": "python",
   "nbconvert_exporter": "python",
   "pygments_lexer": "ipython3",
   "version": "3.11.8"
  }
 },
 "nbformat": 4,
 "nbformat_minor": 2
}
